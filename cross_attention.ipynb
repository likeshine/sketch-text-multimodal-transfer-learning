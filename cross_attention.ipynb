{
 "cells": [
  {
   "cell_type": "code",
   "execution_count": 1,
   "metadata": {
    "gather": {
     "logged": 1637076985885
    },
    "id": "ImsfqdogCTNk"
   },
   "outputs": [],
   "source": [
    "##https://colab.research.google.com/github/trekhleb/machine-learning-experiments/blob/master/experiments/sketch_recognition_cnn/sketch_recognition_cnn.ipynb#scrollTo=ZTO-30-IMfK3\n",
    "##how to feed grayscale images to pretrained models which requires 3 input channels:\n",
    "##https://stackoverflow.com/questions/51995977/how-can-i-use-a-pre-trained-neural-network-with-grayscale-images\n",
    "\n",
    "from PIL import Image\n",
    "import numpy as np\n",
    "import cv2\n",
    "import tensorflow as tf\n",
    "import tensorflow_datasets as tfds\n",
    "import matplotlib.pyplot as plt\n",
    "import numpy as np\n",
    "import math\n",
    "import datetime\n",
    "import platform\n",
    "import pathlib\n",
    "import random\n",
    "import pandas as pd\n",
    "# mogrify"
   ]
  },
  {
   "cell_type": "code",
   "execution_count": 2,
   "metadata": {
    "colab": {
     "base_uri": "https://localhost:8080/"
    },
    "id": "SsnINf8048q5",
    "outputId": "d1c93a87-391f-4748-f870-c4ec75e16e88"
   },
   "outputs": [],
   "source": [
    "# !pip install -U opencv-python\n",
    "# !pip install tensorflow==2.7.3\n",
    "# !pip install -q tf-models-official==2.7.0\n",
    "# !pip install tensorflow_hub\n",
    "# !pip install tensorflow_text\n",
    "# # # !pip install keras-lr-multiplier"
   ]
  },
  {
   "cell_type": "code",
   "execution_count": 3,
   "metadata": {
    "id": "lirE0TuqC_PJ"
   },
   "outputs": [],
   "source": [
    "# from google.colab import drive\n",
    "# drive.mount('/content/drive')"
   ]
  },
  {
   "cell_type": "code",
   "execution_count": 4,
   "metadata": {
    "colab": {
     "base_uri": "https://localhost:8080/"
    },
    "id": "sfmXPx_GCTNp",
    "outputId": "8f699d70-4e5e-4d0d-a78f-5cabc7f30b0b"
   },
   "outputs": [
    {
     "name": "stdout",
     "output_type": "stream",
     "text": [
      "2 Physical GPUs, 2 Logical GPU\n"
     ]
    }
   ],
   "source": [
    "gpus = tf.config.list_physical_devices('GPU')\n",
    "if gpus:\n",
    "  # Restrict TensorFlow to only use the first GPU\n",
    "    try:\n",
    "        tf.config.set_visible_devices(gpus[0:2], 'GPU')\n",
    "        logical_gpus = tf.config.list_logical_devices('GPU')\n",
    "        print(len(gpus), \"Physical GPUs,\", len(logical_gpus), \"Logical GPU\")\n",
    "    except RuntimeError as e:\n",
    "        # Visible devices must be set before GPUs have been initialized\n",
    "        print(e)"
   ]
  },
  {
   "cell_type": "code",
   "execution_count": 5,
   "metadata": {
    "colab": {
     "base_uri": "https://localhost:8080/"
    },
    "gather": {
     "logged": 1637076989008
    },
    "id": "V8j87AATCTNr",
    "jupyter": {
     "outputs_hidden": false,
     "source_hidden": false
    },
    "nteract": {
     "transient": {
      "deleting": false
     }
    },
    "outputId": "c1540443-fbf8-409b-b6a2-3d61a4801094"
   },
   "outputs": [
    {
     "data": {
      "text/plain": [
       "1102"
      ]
     },
     "execution_count": 5,
     "metadata": {},
     "output_type": "execute_result"
    }
   ],
   "source": [
    "sketch = pd.read_csv('data/sketch_cleaned.csv',encoding = 'unicode_escape')\n",
    "\n",
    "len(sketch)"
   ]
  },
  {
   "cell_type": "code",
   "execution_count": 6,
   "metadata": {
    "gather": {
     "logged": 1637052806339
    },
    "id": "jt3MQPezCTNu",
    "jupyter": {
     "outputs_hidden": false,
     "source_hidden": false
    },
    "nteract": {
     "transient": {
      "deleting": false
     }
    }
   },
   "outputs": [],
   "source": [
    "from os.path import exists\n",
    "import statistics\n",
    "\n",
    "image = {}\n",
    "lst = []\n",
    "intensity_list = []\n",
    "median_list = []\n",
    "for i in range(0,1127):\n",
    "# for i in [11,10]:\n",
    "    if exists('data/Frothers-reduced-gray/Page-'+str(i)+'.png') and 'Page-'+str(i) in list(sketch.Image_ID):\n",
    "        lst = lst + ['Page-'+str(i)]\n",
    "        img = cv2.imread('data/Frothers-reduced-gray/Page-'+str(i)+'.png')\n",
    "\n",
    "        A = cv2.resize(img, (int(0.3*img.shape[1]),int(0.3*img.shape[0])), interpolation = cv2.INTER_AREA)\n",
    "#         A = cv2.resize(img, (int(0.4*img.shape[1]),int(0.4*img.shape[0])), interpolation = cv2.INTER_AREA) ##(525,1030)\n",
    "        B = np.ones((309,309,3))*255 \n",
    "#         B = np.ones((476,476,3))*255 \n",
    "        B[0:A.shape[0],0:A.shape[1],:] = A\n",
    "        C = 255 - B\n",
    "        image[i] = C\n",
    "        \n",
    "        lst_intensities = []\n",
    "        g_intensities = []\n",
    "        r_intensities = []\n",
    "        b_intensities = []\n",
    "        gray = cv2.cvtColor(img,cv2.COLOR_RGB2GRAY)\n",
    "        a = np.mean(gray)\n",
    "        pts = np.where(gray < a)\n",
    "        lst_intensities.append(gray[pts[0], pts[1]])\n",
    "        intensity = statistics.mean(lst_intensities[0].tolist())\n",
    "        median = statistics.median(lst_intensities[0].tolist())\n",
    "        \n",
    "        intensity_list = intensity_list + [intensity]\n",
    "        median_list = median_list + [median]"
   ]
  },
  {
   "cell_type": "code",
   "execution_count": 7,
   "metadata": {
    "colab": {
     "base_uri": "https://localhost:8080/"
    },
    "id": "yc1ZQd5uCTNv",
    "outputId": "80f8bb61-c548-4367-c823-14fdff809a1c"
   },
   "outputs": [
    {
     "data": {
      "text/plain": [
       "(157, 309, 3)"
      ]
     },
     "execution_count": 7,
     "metadata": {},
     "output_type": "execute_result"
    }
   ],
   "source": [
    "# A.shape"
   ]
  },
  {
   "cell_type": "code",
   "execution_count": 8,
   "metadata": {
    "colab": {
     "base_uri": "https://localhost:8080/"
    },
    "id": "_R6metidCTNw",
    "outputId": "d38a545b-188c-4d1a-a197-5f5b73cb6ee4"
   },
   "outputs": [
    {
     "data": {
      "text/plain": [
       "1086"
      ]
     },
     "execution_count": 8,
     "metadata": {},
     "output_type": "execute_result"
    }
   ],
   "source": [
    "sketch = sketch[sketch['Image_ID'].isin(lst)]\n",
    "sketch = sketch.reset_index(drop=True)\n",
    "sketch['intensity'] = intensity_list\n",
    "sketch['median'] = median_list\n",
    "len(sketch)"
   ]
  },
  {
   "cell_type": "code",
   "execution_count": 9,
   "metadata": {
    "colab": {
     "base_uri": "https://localhost:8080/"
    },
    "id": "6R-canyiCTNw",
    "outputId": "2b049d36-df27-4798-844a-f7f8fda47ce7"
   },
   "outputs": [
    {
     "data": {
      "text/plain": [
       "True"
      ]
     },
     "execution_count": 9,
     "metadata": {},
     "output_type": "execute_result"
    }
   ],
   "source": [
    "sketch['Image_ID'].tolist() == lst"
   ]
  },
  {
   "cell_type": "code",
   "execution_count": 10,
   "metadata": {
    "colab": {
     "base_uri": "https://localhost:8080/"
    },
    "id": "FNoEljC1CTNx",
    "outputId": "1bdbafcd-f52f-48ca-d2a3-1a80b4c180fc"
   },
   "outputs": [
    {
     "data": {
      "text/plain": [
       "(157, 309, 3)"
      ]
     },
     "execution_count": 10,
     "metadata": {},
     "output_type": "execute_result"
    }
   ],
   "source": [
    "A.shape"
   ]
  },
  {
   "cell_type": "code",
   "execution_count": 11,
   "metadata": {
    "gather": {
     "logged": 1637077095460
    },
    "id": "F2sMKNu4CTNx",
    "jupyter": {
     "outputs_hidden": false,
     "source_hidden": false
    },
    "nteract": {
     "transient": {
      "deleting": false
     }
    },
    "scrolled": true
   },
   "outputs": [],
   "source": [
    "from sklearn.model_selection import train_test_split\n",
    "\n",
    "sketch = pd.read_csv('data/sketch_drawing.csv')\n",
    "\n",
    "var = 'Unique_expert'\n",
    "# var = 'Drawing_expert'\n",
    "# var = 'Useful_expert'\n",
    "# var = 'Elegence_expert'\n",
    "# var = 'Creativity_expert'\n",
    "\n",
    "mapping1 = {'Creativity_expert': 'Creativity',\n",
    "                       'Useful_expert': 'Useful',\n",
    "                       'Unique_expert': 'Unique',\n",
    "                       'Drawing_expert': 'Drawing',\n",
    "                       'Elegence_expert': 'Elegence',}\n",
    "mapping = {'Creativity_expert': 'Creativity_expert_round',\n",
    "                       'Useful_expert': 'Useful_expert_round',\n",
    "                       'Unique_expert': 'Unique_expert_round',\n",
    "                       'Drawing_expert': 'Drawing_expert_round',\n",
    "                       'Elegence_expert': 'Elegence_expert_round',}\n",
    "\n",
    "images = [image[i] for i in image.keys()]"
   ]
  },
  {
   "cell_type": "code",
   "execution_count": 12,
   "metadata": {},
   "outputs": [
    {
     "data": {
      "text/plain": [
       "1086"
      ]
     },
     "execution_count": 12,
     "metadata": {},
     "output_type": "execute_result"
    }
   ],
   "source": [
    "len(sketch)"
   ]
  },
  {
   "cell_type": "code",
   "execution_count": 13,
   "metadata": {},
   "outputs": [],
   "source": [
    "# from sklearn.model_selection import train_test_split\n",
    "\n",
    "# train_df = sketch[sketch['set2_'+var] == 'train'] \n",
    "# # val_df = sketch1[sketch1['set2_'+var] == 'val'] \n",
    "# # test_df = sketch1[sketch1['set2_'+var] == 'test'] \n",
    "\n",
    "# images = [image[i] for i in image.keys()]\n",
    "\n",
    "# train_graph, test_graph1, train_cost, test_cost1 = train_test_split(list(train_df.index), train_df[mapping1[var]], random_state=2018, \n",
    "#                                                                   train_size=0.75, stratify=train_df[mapping1[var]])\n",
    "# train_graph, test_graph2, train_cost, test_cost2 = train_test_split(train_graph, train_cost, random_state=2018, \n",
    "#                                                               train_size=2/3, stratify=train_cost)\n",
    "# train_graph, test_graph3, train_cost, test_cost3 = train_test_split(train_graph, train_cost, random_state=2018, \n",
    "#                                                               train_size=0.5, stratify=train_cost)\n",
    "# # print(len(train_graph), len(val_graph), len(test_graph))"
   ]
  },
  {
   "cell_type": "code",
   "execution_count": 14,
   "metadata": {},
   "outputs": [],
   "source": [
    "# for i in range(0,1086):\n",
    "#     if i in test_cost1.index:\n",
    "#         sketch.loc[i, 'partition_'+var] = 'train1'\n",
    "#     elif i in test_cost2.index:\n",
    "#         sketch.loc[i, 'partition_'+var] = 'train2'\n",
    "#     elif i in test_cost3.index:\n",
    "#         sketch.loc[i, 'partition_'+var] = 'train3'\n",
    "#     elif i in train_cost.index:\n",
    "#         sketch.loc[i, 'partition_'+var] = 'train4'\n",
    "#     else:\n",
    "#         sketch.loc[i, 'partition_'+var] = 'train5'\n",
    "        \n",
    "# sketch.to_csv('data/sketch_drawing.csv')"
   ]
  },
  {
   "cell_type": "code",
   "execution_count": 15,
   "metadata": {},
   "outputs": [],
   "source": [
    "# sketch[['partition_'+var, 'set2_'+var]]"
   ]
  },
  {
   "cell_type": "code",
   "execution_count": 17,
   "metadata": {
    "gather": {
     "logged": 1637078107788
    },
    "id": "DrXjr9oMCTNy",
    "jupyter": {
     "outputs_hidden": false,
     "source_hidden": false
    },
    "nteract": {
     "transient": {
      "deleting": false
     }
    }
   },
   "outputs": [],
   "source": [
    "sketch1 = pd.read_csv('data/sketch_drawing.csv')\n",
    "\n",
    "images = [image[i] for i in image.keys()]\n",
    "train_df = sketch1[sketch1['set2_'+var] == 'train'] \n",
    "val_df = sketch1[sketch1['set2_'+var] == 'val'] \n",
    "test_df = sketch1[sketch1['set2_'+var] == 'test'] \n",
    "\n",
    "# var1 = 'train1'\n",
    "# train_df = sketch1[sketch1['partition_'+var] != var1] \n",
    "# test_df = sketch1[sketch1['partition_'+var] == var1] \n",
    "# val_graph, test_graph, val_cost, test_cost = train_test_split(list(test_df.index), test_df[mapping1[var]], random_state=2018, \n",
    "#                                                                   train_size=0.5, stratify=test_df[mapping1[var]])\n",
    "\n",
    "train_graph = [images[i] for i in train_df.index]\n",
    "val_graph = [images[i] for i in val_df.index]\n",
    "test_graph = [images[i] for i in test_df.index]\n",
    "all_graph = [images[i] for i in range(len(images))]\n",
    "\n",
    "sketch1 = sketch1.astype({\"text\": str})\n",
    "text = list(sketch1['text'])\n",
    "train_text = [text[i] for i in train_df.index]\n",
    "val_text = [text[i] for i in val_df.index]\n",
    "test_text = [text[i] for i in test_df.index]"
   ]
  },
  {
   "cell_type": "code",
   "execution_count": 18,
   "metadata": {
    "id": "prvaOjRUCTNz"
   },
   "outputs": [],
   "source": [
    "train_cost = train_df[var]\n",
    "val_cost = val_df[var]\n",
    "test_cost = test_df[var]\n",
    "\n",
    "image_shape = train_graph[0].shape"
   ]
  },
  {
   "cell_type": "code",
   "execution_count": 19,
   "metadata": {
    "id": "MKoRfia6CTNz"
   },
   "outputs": [],
   "source": [
    "x_train = np.array(train_graph)/255\n",
    "x_val = np.array(val_graph)/255\n",
    "x_test = np.array(test_graph)/255\n",
    "x_all = np.array(all_graph)/255"
   ]
  },
  {
   "cell_type": "code",
   "execution_count": 20,
   "metadata": {
    "id": "_InNPP9uCTN0"
   },
   "outputs": [],
   "source": [
    "import os\n",
    "import shutil\n",
    "import logging\n",
    "import numpy as np\n",
    "from scipy.ndimage import gaussian_filter1d\n",
    "from scipy.signal.windows import triang\n",
    "\n",
    "def get_bin_idx(x):\n",
    "    return min(int(x * np.float32(10)), 99)\n",
    "\n",
    "def get_lds_kernel_window(kernel, ks, sigma):\n",
    "    assert kernel in ['gaussian', 'triang', 'laplace']\n",
    "    half_ks = (ks - 1) // 2\n",
    "    if kernel == 'gaussian':\n",
    "        base_kernel = [0.] * half_ks + [1.] + [0.] * half_ks\n",
    "        kernel_window = gaussian_filter1d(base_kernel, sigma=sigma) / max(gaussian_filter1d(base_kernel, sigma=sigma))\n",
    "    elif kernel == 'triang':\n",
    "        kernel_window = triang(ks)\n",
    "    else:\n",
    "        laplace = lambda x: np.exp(-abs(x) / sigma) / (2. * sigma)\n",
    "        kernel_window = list(map(laplace, np.arange(-half_ks, half_ks + 1))) / max(map(laplace, np.arange(-half_ks, half_ks + 1)))\n",
    "\n",
    "    return kernel_window"
   ]
  },
  {
   "cell_type": "code",
   "execution_count": 21,
   "metadata": {
    "id": "eNQoQDyGCTN0"
   },
   "outputs": [],
   "source": [
    "#https://github.com/YyzHarry/imbalanced-regression\n",
    "\n",
    "from collections import Counter\n",
    "from scipy.ndimage import convolve1d\n",
    "\n",
    "for i in [0]:\n",
    "    # preds, labels: [Ns,], \"Ns\" is the number of total samples\n",
    "#     preds, labels = train_df, train_cost1[var]\n",
    "    labels = train_cost\n",
    "    # assign each label to its corresponding bin (start from 0)\n",
    "    # with your defined get_bin_idx(), return bin_index_per_label: [Ns,] \n",
    "    bin_index_per_label = [get_bin_idx(label) for label in labels]\n",
    "\n",
    "    # calculate empirical (original) label distribution: [Nb,]\n",
    "    # \"Nb\" is the number of bins\n",
    "    Nb = max(bin_index_per_label) + 1\n",
    "    num_samples_of_bins = dict(Counter(bin_index_per_label))\n",
    "    emp_label_dist = [num_samples_of_bins.get(i, 0) for i in range(Nb)]\n",
    "\n",
    "    # lds_kernel_window: [ks,], here for example, we use gaussian, ks=5, sigma=2\n",
    "    lds_kernel_window = get_lds_kernel_window(kernel='gaussian', ks=5, sigma=2)\n",
    "    # calculate effective label distribution: [Nb,]\n",
    "    eff_label_dist = convolve1d(np.array(emp_label_dist), weights=lds_kernel_window, mode='constant')\n",
    "\n",
    "    # Use re-weighting based on effective label distribution, sample-wise weights: [Ns,]\n",
    "    eff_num_per_label = [eff_label_dist[bin_idx] for bin_idx in bin_index_per_label]\n",
    "    weights = [np.float32(1 / x) for x in eff_num_per_label]\n",
    "    # # calculate loss\n",
    "    # loss = weighted_mse_loss(preds, labels, weights=weights)                  "
   ]
  },
  {
   "cell_type": "code",
   "execution_count": 22,
   "metadata": {
    "colab": {
     "base_uri": "https://localhost:8080/"
    },
    "id": "ujDBoaKuXVWd",
    "outputId": "68bdc204-ff18-4c9e-a13d-2ee28165c973"
   },
   "outputs": [
    {
     "name": "stdout",
     "output_type": "stream",
     "text": [
      "BERT model selected           : https://tfhub.dev/tensorflow/small_bert/bert_en_uncased_L-4_H-512_A-8/1\n",
      "Preprocess model auto-selected: https://tfhub.dev/tensorflow/bert_en_uncased_preprocess/3\n"
     ]
    }
   ],
   "source": [
    "bert_model_name = 'small_bert/bert_en_uncased_L-4_H-512_A-8'\n",
    "\n",
    "map_name_to_handle = {\n",
    "    'small_bert/bert_en_uncased_L-4_H-512_A-8':\n",
    "          'https://tfhub.dev/tensorflow/small_bert/bert_en_uncased_L-4_H-512_A-8/1',\n",
    "}\n",
    "\n",
    "map_model_to_preprocess = {\n",
    "    'small_bert/bert_en_uncased_L-4_H-512_A-8':\n",
    "        'https://tfhub.dev/tensorflow/bert_en_uncased_preprocess/3',\n",
    "}\n",
    "\n",
    "tfhub_handle_encoder = map_name_to_handle[bert_model_name]\n",
    "tfhub_handle_preprocess = map_model_to_preprocess[bert_model_name]\n",
    "\n",
    "print(f'BERT model selected           : {tfhub_handle_encoder}')\n",
    "print(f'Preprocess model auto-selected: {tfhub_handle_preprocess}')"
   ]
  },
  {
   "cell_type": "code",
   "execution_count": 23,
   "metadata": {
    "id": "G3sPU8flXVh2"
   },
   "outputs": [],
   "source": [
    "import tensorflow_hub as hub\n",
    "import tensorflow_text as text\n",
    "bert_preprocess_model = hub.KerasLayer(tfhub_handle_preprocess)"
   ]
  },
  {
   "cell_type": "code",
   "execution_count": 24,
   "metadata": {
    "id": "ICy6VN0mCTN1",
    "scrolled": true
   },
   "outputs": [],
   "source": [
    "from tensorflow.keras.optimizers import RMSprop, Adam, SGD\n",
    "from tensorflow.keras.callbacks import LearningRateScheduler\n",
    "from tensorflow.keras.applications.inception_v3 import InceptionV3\n",
    "from tensorflow.keras import Model, Input, layers, regularizers\n",
    "from keras.models import load_model\n",
    "from tensorflow.keras import activations\n",
    "from official.nlp import optimization \n",
    "\n",
    "epochs = 1000\n",
    "steps_per_epoch = 37\n",
    "num_train_steps = steps_per_epoch * epochs\n",
    "\n",
    "a = 0.00\n",
    "# if var == 'Unique_expert':\n",
    "#     a = 0.005\n",
    "# elif var == 'Creativity_expert':\n",
    "#     a = 0.02\n",
    "# elif var == 'Useful_expert':\n",
    "#     a = 0.1\n",
    "num_warmup_steps = int(a*num_train_steps)\n",
    "init_lr = 2e-5\n",
    "optimizer = optimization.create_optimizer(init_lr=init_lr,\n",
    "                                          num_train_steps=num_train_steps,\n",
    "                                          num_warmup_steps=num_warmup_steps,\n",
    "                                          optimizer_type='adamw')\n",
    "\n",
    "merge = []\n",
    "input_tensor = Input(shape=1048, name='input')\n",
    "\n",
    "model_name1 = 'model weight/'+var+'/new text-'+var+'-best.h5'\n",
    "base_model1 = load_model(model_name1, custom_objects={'KerasLayer':hub.KerasLayer,'AdamWeightDecay': optimizer})\n",
    "for layer in base_model1.layers:\n",
    "    layer._name = layer._name + \"_a\"\n",
    "\n",
    "sequence_output_1 = base_model1.layers[2].output['encoder_outputs'][0][:,0,:]\n",
    "sequence_output_1 = layers.BatchNormalization()(sequence_output_1)\n",
    "sequence_output_1 = layers.Activation('tanh')(sequence_output_1)\n",
    "sequence_output_2 = base_model1.layers[2].output['encoder_outputs'][1][:,0,:]\n",
    "sequence_output_2 = layers.BatchNormalization()(sequence_output_2)\n",
    "sequence_output_2 = layers.Activation('tanh')(sequence_output_2)\n",
    "sequence_output_3 = base_model1.layers[2].output['encoder_outputs'][2][:,0,:]\n",
    "sequence_output_3 = layers.BatchNormalization()(sequence_output_3)\n",
    "sequence_output_3 = layers.Activation('tanh')(sequence_output_3)\n",
    "sequence_output_4 = base_model1.layers[2].output['encoder_outputs'][3][:,0,:]\n",
    "sequence_output_4 = layers.BatchNormalization()(sequence_output_4)\n",
    "sequence_output_4 = layers.Activation('tanh')(sequence_output_4)\n",
    "sequence_output_1 = layers.Reshape((-1,sequence_output_4.shape[-1]))(sequence_output_1)\n",
    "sequence_output_2 = layers.Reshape((-1,sequence_output_4.shape[-1]))(sequence_output_2)\n",
    "sequence_output_3 = layers.Reshape((-1,sequence_output_4.shape[-1]))(sequence_output_3)\n",
    "sequence_output_4 = layers.Reshape((-1,sequence_output_4.shape[-1]))(sequence_output_4)\n",
    "sequence_output = layers.Concatenate(axis=1)([sequence_output_1, sequence_output_2, sequence_output_3, sequence_output_4])\n",
    "\n",
    "drop_rate = 0.1\n",
    "drop_rate1 = 0.3\n",
    "final_hid = 64\n",
    "head = 1\n",
    "att_layers = 1\n",
    "att_hid = 64\n",
    "\n",
    "sketch_append = input_tensor\n",
    "sketch_append = layers.Activation('tanh')(sketch_append)\n",
    "sketch_append = layers.Dropout(drop_rate1)(sketch_append)\n",
    "\n",
    "text_append =  base_model1.layers[2].output['pooled_output']\n",
    "text_append1 =  base_model1.layers[-3].output\n",
    "\n",
    "##With attention - sketch on text\n",
    "inpAttText_key = sequence_output\n",
    "inpAttText_query = sketch_append\n",
    "for layer in range(att_layers):\n",
    "    att_text = []\n",
    "    concat_key = []\n",
    "    for _ in range(head):\n",
    "        img_query = layers.Dense(att_hid/head, use_bias=False)(inpAttText_query)\n",
    "        img_query1 = layers.BatchNormalization()(img_query)\n",
    "        img_query1 = layers.Activation('relu')(img_query1)\n",
    "        img_query = layers.Dropout(drop_rate)(img_query)\n",
    "        \n",
    "        text_key = layers.Dense(att_hid/head, use_bias=False)(inpAttText_key)\n",
    "        text_key1 = layers.BatchNormalization()(text_key)\n",
    "        text_key1 = layers.Activation('relu')(text_key1)\n",
    "        text_key = layers.Dropout(drop_rate)(text_key)\n",
    "        \n",
    "        text_value = layers.Dense(att_hid/head, use_bias=False)(inpAttText_key)\n",
    "        text_value = layers.Dropout(drop_rate)(text_value)\n",
    "        \n",
    "        attention = layers.Dot(axes=(1,2))([img_query, text_key])\n",
    "        attention = layers.Lambda(lambda x: x[0]/x[1])([attention,np.sqrt(att_hid/head)])\n",
    "        attention = layers.Activation(\"softmax\")(attention)\n",
    "        head_att_text = layers.Dot(axes=(1,1))([attention, text_value])\n",
    "        att_text = head_att_text\n",
    "        concat_key = text_key\n",
    "    \n",
    "    inpAttText_query = att_text\n",
    "    inpAttText_key = concat_key\n",
    "    \n",
    "merge.append(att_text)\n",
    "merge.append(img_query1)\n",
    "merge.append(text_append1)\n",
    "\n",
    "l_merge = layers.Concatenate(axis=1)(merge)\n",
    "l_merge = layers.Dropout(drop_rate1)(l_merge)\n",
    "\n",
    "out4 = layers.Dense(1, activation='relu', name='out4')(l_merge)\n",
    "model1 = Model([base_model1.input,input_tensor], out4)\n",
    "\n",
    "model_name2 = 'model weight/'+var+'/attend-text1_'+var+'-best.h5'\n",
    "model1.load_weights(model_name2)"
   ]
  },
  {
   "cell_type": "code",
   "execution_count": 25,
   "metadata": {
    "id": "7n419dTQfZV2"
   },
   "outputs": [],
   "source": [
    "model_name5 = 'model weight/'+var+'/both_ratio-'+str(1)+'-'+var+'-best.h5'\n",
    "base_model2 = load_model(model_name5)\n",
    "for layer in base_model2.layers:\n",
    "    layer._name = layer._name + \"_b\"\n",
    "x = base_model2.layers[-2].output\n",
    "x = layers.Dense(64)(x)\n",
    "x = layers.Activation('relu')(x)\n",
    "initializer = tf.keras.initializers.Constant(1/64)\n",
    "out1x = layers.Dense(1, activation='relu', name='out1x', kernel_initializer=initializer)(x)\n",
    "base_model3 = Model(base_model2.input, out1x)\n",
    "\n",
    "merge = []\n",
    "# # train simple joint model\n",
    "input_tensor2 = Input(shape=512, name='input2')\n",
    "model_name3 = 'model weight/'+var+'/new sketch-'+var+'-best.h5'\n",
    "base_model3.load_weights(model_name3)\n",
    "for i in [2,3,4]:\n",
    "    base_model3.layers[i]._name = base_model3.layers[i].name + \"_c\"\n",
    "\n",
    "out1x = base_model3.layers[-6].output\n",
    "out1x = layers.Activation('tanh')(out1x)\n",
    "out1x = layers.Reshape((-1,2048))(out1x)\n",
    "\n",
    "drop_rate = 0.1\n",
    "drop_rate1 = 0.3\n",
    "final_hid = 64\n",
    "head = 1\n",
    "att_layers = 1\n",
    "att_hid = 64\n",
    "size_pool = 3\n",
    "\n",
    "text_append = input_tensor2\n",
    "text_append = layers.Dropout(drop_rate1)(text_append)\n",
    "\n",
    "img = out1x\n",
    "sketch_append =  base_model3.layers[-4].output\n",
    "sketch_append1 =  base_model3.layers[-3].output\n",
    "sketch_append1= layers.Activation('tanh')(sketch_append1)\n",
    "\n",
    "##With attention - text on image\n",
    "inpAttImg_key = img\n",
    "inpAttImg_query = text_append\n",
    "for layer in range(1):\n",
    "    att_img = []\n",
    "    concat_key = []\n",
    "    for _ in range(head):\n",
    "        img_key = layers.Dense(att_hid/head, use_bias=False)(inpAttImg_key)\n",
    "        img_key1 = layers.BatchNormalization()(img_key)\n",
    "        img_key1 = layers.Activation('relu')(img_key1)\n",
    "        img_key = layers.Dropout(drop_rate)(img_key)\n",
    "\n",
    "        text_query = layers.Dense(att_hid/head, use_bias=False)(inpAttImg_query)\n",
    "        text_query1 = layers.BatchNormalization()(text_query)\n",
    "        text_query1 = layers.Activation('relu')(text_query1) \n",
    "        text_query = layers.Dropout(drop_rate)(text_query)\n",
    "\n",
    "        img_value = layers.Dense(att_hid/head, use_bias=False)(inpAttImg_key)\n",
    "        img_value = layers.Dropout(drop_rate)(img_value)\n",
    "\n",
    "        attention = layers.Dot(axes=(1,2))([text_query, img_key])\n",
    "        attention = layers.Lambda(lambda x: x[0]/x[1])([attention,np.sqrt(att_hid/head)])\n",
    "        attention = layers.Activation(\"softmax\")(attention)\n",
    "        head_att_img = layers.Dot(axes=(1,1))([attention, img_value])\n",
    "        att_img = head_att_img\n",
    "        concat_key = img_key\n",
    "\n",
    "    inpAttImg_query = att_img\n",
    "    inpAttImg_key = concat_key\n",
    "\n",
    "merge.append(att_img)\n",
    "merge.append(text_query1)\n",
    "merge.append(sketch_append1)\n",
    "\n",
    "l_merge = layers.Concatenate(axis=1)(merge)\n",
    "l_merge = layers.Dropout(drop_rate1)(l_merge) \n",
    "\n",
    "out5 = layers.Dense(1, activation='relu', name='out5')(l_merge)\n",
    "model2 = Model(inputs=[base_model3.input,input_tensor2], outputs=out5)\n",
    "\n",
    "model_name4 = 'model weight/'+var+'/attend-sketch_'+var+'-best.h5'\n",
    "model2.load_weights(model_name4)"
   ]
  },
  {
   "cell_type": "code",
   "execution_count": 26,
   "metadata": {
    "id": "wx8vyB5jiYmt"
   },
   "outputs": [],
   "source": [
    "input_tensor1 = Input(shape=(), dtype=tf.string, name='text')\n",
    "input_tensor2 = Input(shape=image_shape)\n",
    "\n",
    "merge1 = []\n",
    "tokens = model1.layers[1](input_tensor1)\n",
    "ecoding = model1.layers[2](tokens)\n",
    "sequence_output_1 = ecoding['encoder_outputs'][0][:,0,:]\n",
    "sequence_output_1 = model1.layers[7](sequence_output_1)\n",
    "sequence_output_1 = layers.Activation('tanh')(sequence_output_1)\n",
    "sequence_output_2 = ecoding['encoder_outputs'][1][:,0,:]\n",
    "sequence_output_2 = model1.layers[8](sequence_output_2)\n",
    "sequence_output_2 = layers.Activation('tanh')(sequence_output_2)\n",
    "sequence_output_3 = ecoding['encoder_outputs'][2][:,0,:]\n",
    "sequence_output_3 = model1.layers[9](sequence_output_3)\n",
    "sequence_output_3 = layers.Activation('tanh')(sequence_output_3)\n",
    "sequence_output_4 = ecoding['encoder_outputs'][3][:,0,:]\n",
    "sequence_output_4 = model1.layers[10](sequence_output_4)\n",
    "sequence_output_4 = layers.Activation('tanh')(sequence_output_4)\n",
    "sequence_output_1 = layers.Reshape((-1,sequence_output_4.shape[-1]))(sequence_output_1)\n",
    "sequence_output_2 = layers.Reshape((-1,sequence_output_4.shape[-1]))(sequence_output_2)\n",
    "sequence_output_3 = layers.Reshape((-1,sequence_output_4.shape[-1]))(sequence_output_3)\n",
    "sequence_output_4 = layers.Reshape((-1,sequence_output_4.shape[-1]))(sequence_output_4)\n",
    "sequence_output = layers.Concatenate(axis=1)([sequence_output_1, sequence_output_2, sequence_output_3, sequence_output_4])\n",
    "\n",
    "text_append = ecoding['pooled_output']\n",
    "text_append1 = model1.layers[-4](text_append)\n",
    "\n",
    "incep = model2.layers[1](input_tensor2)\n",
    "flat = layers.Flatten()(incep)\n",
    "dense_1024 = model2.layers[12](flat)\n",
    "dropout = model2.layers[-11](dense_1024)\n",
    "dense_64 = model2.layers[-7](dropout)\n",
    "\n",
    "out1x = layers.Activation('tanh')(flat)\n",
    "out1x = layers.Reshape((-1,2048))(out1x)\n",
    "\n",
    "img = out1x\n",
    "sketch_append = dense_1024\n",
    "sketch_append1 = dense_64 \n",
    "sketch_append1= layers.Activation('tanh')(sketch_append1)\n",
    "\n",
    "sketch_append = layers.Activation('tanh')(sketch_append)\n",
    "sketch_append = layers.Dropout(drop_rate1)(sketch_append)\n",
    "##With attention - sketch on text\n",
    "inpAttText_key = sequence_output\n",
    "inpAttText_query = sketch_append\n",
    "for layer in range(att_layers):\n",
    "    att_text = []\n",
    "    concat_key = []\n",
    "    for _ in range(head):\n",
    "        img_query = model1.layers[-16](inpAttText_query)\n",
    "        img_query1 = model1.layers[-7](img_query)\n",
    "        img_query1 = layers.Activation('relu')(img_query1)\n",
    "        img_query = layers.Dropout(drop_rate)(img_query)\n",
    "        \n",
    "        text_key = model1.layers[-15](inpAttText_key)\n",
    "        text_key = layers.Dropout(drop_rate)(text_key)\n",
    "        \n",
    "        text_value = model1.layers[-10](inpAttText_key)\n",
    "        text_value = layers.Dropout(drop_rate)(text_value)\n",
    "        \n",
    "        attention = layers.Dot(axes=(1,2))([img_query, text_key])\n",
    "        attention = layers.Lambda(lambda x: x[0]/x[1])([attention,np.sqrt(att_hid/head)])\n",
    "        attention = layers.Activation(\"softmax\")(attention)\n",
    "        head_att_text = layers.Dot(axes=(1,1))([attention, text_value])\n",
    "        att_text = head_att_text\n",
    "        concat_key = text_key\n",
    "    \n",
    "    inpAttText_query = att_text\n",
    "    inpAttText_key = concat_key\n",
    "    \n",
    "merge1.append(att_text)\n",
    "merge1.append(img_query1)\n",
    "merge1.append(text_append1)\n",
    "l_merge1 = layers.Concatenate(axis=1)(merge1)\n",
    "l_merge1 = layers.Dropout(drop_rate1)(l_merge1) \n",
    "out4 = model1.layers[-1](l_merge1)\n",
    "\n",
    "merge2 = []\n",
    "text_append = layers.Dropout(drop_rate1)(text_append)\n",
    "##With attention - text on image\n",
    "inpAttImg_key = img\n",
    "inpAttImg_query = text_append\n",
    "for layer in range(1):\n",
    "    att_img = []\n",
    "    concat_key = []\n",
    "    for _ in range(head):\n",
    "        img_key = model2.layers[8](inpAttImg_key) \n",
    "        img_key = layers.Dropout(drop_rate)(img_key)\n",
    "\n",
    "        text_query = model2.layers[7](inpAttImg_query)\n",
    "        text_query1 =   model2.layers[-8](text_query)\n",
    "        text_query1 = layers.Activation('relu')(text_query1) \n",
    "        text_query = layers.Dropout(drop_rate)(text_query)\n",
    "\n",
    "        img_value = model2.layers[-12](inpAttImg_key)\n",
    "        img_value = layers.Dropout(drop_rate)(img_value)\n",
    "\n",
    "        attention = layers.Dot(axes=(1,2))([text_query, img_key])\n",
    "        attention = layers.Lambda(lambda x: x[0]/x[1])([attention,np.sqrt(att_hid/head)])\n",
    "        attention = layers.Activation(\"softmax\")(attention)\n",
    "        head_att_img = layers.Dot(axes=(1,1))([attention, img_value])\n",
    "        att_img = head_att_img\n",
    "        concat_key = img_key\n",
    "\n",
    "    inpAttImg_query = att_img\n",
    "    inpAttImg_key = concat_key\n",
    "\n",
    "merge2.append(att_img)\n",
    "merge2.append(text_query1)\n",
    "merge2.append(sketch_append1)\n",
    "l_merge2 = layers.Concatenate(axis=1)(merge2)\n",
    "l_merge2 = layers.Dropout(drop_rate1)(l_merge2) \n",
    "out5 = model2.layers[-1](l_merge2)"
   ]
  },
  {
   "cell_type": "code",
   "execution_count": 27,
   "metadata": {
    "id": "VnXRGDzhyA3c"
   },
   "outputs": [],
   "source": [
    "# z = layers.Concatenate(axis=1)(merge1+merge2)\n",
    "# out6 = layers.Dense(1, activation='relu', name='out6')(z)\n",
    "# model = Model([input_tensor1,input_tensor2], out6)\n",
    "# weight = np.concatenate((np.array(0.3*model1.layers[-1].weights[0]), np.array(0.7*model2.layers[-1].weights[0])),axis=0)\n",
    "# model.layers[-1].set_weights([weight,np.zeros(1)])\n",
    "\n",
    "z = layers.Concatenate(axis=1)([out4,out5])\n",
    "# initializer = tf.keras.initializers.RandomUniform(minval=0.01, maxval=0.99)\n",
    "initializer = tf.keras.initializers.Constant([0.8, 0.2])\n",
    "out6 = layers.Dense(1, activation='relu', name='out6', kernel_initializer=initializer)(z)\n",
    "model = Model([input_tensor1,input_tensor2], out6)\n",
    "\n",
    "epochs = 1000\n",
    "steps_per_epoch = 37\n",
    "num_train_steps = steps_per_epoch * epochs\n",
    "\n",
    "a = 0.00\n",
    "# if var == 'Unique_expert':\n",
    "#     a = 0.005\n",
    "# elif var == 'Creativity_expert':\n",
    "#     a = 0.02\n",
    "# elif var == 'Useful_expert':\n",
    "#     a = 0.1\n",
    "num_warmup_steps = int(a*num_train_steps)\n",
    "init_lr = 2e-5\n",
    "optimizer = optimization.create_optimizer(init_lr=init_lr,\n",
    "                                          num_train_steps=num_train_steps,\n",
    "                                          num_warmup_steps=num_warmup_steps,\n",
    "                                          optimizer_type='adamw')\n",
    "\n",
    "model.compile(optimizer=optimizer,\n",
    "              loss=tf.keras.losses.MeanSquaredError(),\n",
    "              metrics= tf.keras.metrics.RootMeanSquaredError())"
   ]
  },
  {
   "cell_type": "code",
   "execution_count": 43,
   "metadata": {
    "id": "Ow1b-YUVCTN1"
   },
   "outputs": [],
   "source": [
    "# base_model.summary()\n",
    "# model2.summary()"
   ]
  },
  {
   "cell_type": "code",
   "execution_count": 28,
   "metadata": {
    "id": "X7BQ3ILcCTN2"
   },
   "outputs": [],
   "source": [
    "##definition of callbacks\n",
    "batch_size = 24\n",
    "\n",
    "early_stopping_callback = tf.keras.callbacks.EarlyStopping(\n",
    "    patience=5,\n",
    "    monitor=\"val_loss\",\n",
    "    restore_best_weights=True,\n",
    "    verbose=1)"
   ]
  },
  {
   "cell_type": "code",
   "execution_count": 45,
   "metadata": {
    "id": "JwQvBZAfCTN2"
   },
   "outputs": [],
   "source": [
    "# init_lr = 3e-5\n",
    "# num_warmup_steps = 0\n",
    "# optimizer = optimization.create_optimizer(init_lr=init_lr,\n",
    "#                                           num_train_steps=num_train_steps,\n",
    "#                                           num_warmup_steps=num_warmup_steps,\n",
    "#                                           optimizer_type='adamw')\n",
    "\n",
    "# model.compile(optimizer=optimizer,\n",
    "#               loss=tf.keras.losses.MeanSquaredError(),\n",
    "#               metrics= tf.keras.metrics.RootMeanSquaredError())\n",
    "\n",
    "# early_stopping_callback = tf.keras.callbacks.EarlyStopping(\n",
    "#     patience=20,\n",
    "#     monitor=\"val_loss\",\n",
    "#     restore_best_weights=True,\n",
    "#     verbose=1)"
   ]
  },
  {
   "cell_type": "code",
   "execution_count": 47,
   "metadata": {
    "id": "mifNdLBSCTN2",
    "scrolled": true
   },
   "outputs": [
    {
     "name": "stdout",
     "output_type": "stream",
     "text": [
      "Epoch 1/1000\n",
      "37/37 [==============================] - 37s 910ms/step - loss: 0.0127 - root_mean_squared_error: 0.7627 - val_loss: 0.8086 - val_root_mean_squared_error: 0.8992\n",
      "Epoch 2/1000\n",
      "37/37 [==============================] - 30s 810ms/step - loss: 0.0086 - root_mean_squared_error: 0.7767 - val_loss: 0.8197 - val_root_mean_squared_error: 0.9054\n",
      "Epoch 3/1000\n",
      "37/37 [==============================] - 31s 829ms/step - loss: 0.0063 - root_mean_squared_error: 0.6637 - val_loss: 0.5338 - val_root_mean_squared_error: 0.7306\n",
      "Epoch 4/1000\n",
      "37/37 [==============================] - 31s 855ms/step - loss: 0.0049 - root_mean_squared_error: 0.6182 - val_loss: 0.4114 - val_root_mean_squared_error: 0.6414\n",
      "Epoch 5/1000\n",
      "37/37 [==============================] - 30s 821ms/step - loss: 0.0078 - root_mean_squared_error: 0.6740 - val_loss: 0.5200 - val_root_mean_squared_error: 0.7211\n",
      "Epoch 6/1000\n",
      "37/37 [==============================] - 31s 834ms/step - loss: 0.0050 - root_mean_squared_error: 0.5964 - val_loss: 0.3237 - val_root_mean_squared_error: 0.5689\n",
      "Epoch 7/1000\n",
      "37/37 [==============================] - 30s 818ms/step - loss: 0.0045 - root_mean_squared_error: 0.5788 - val_loss: 0.2511 - val_root_mean_squared_error: 0.5011\n",
      "Epoch 8/1000\n",
      "37/37 [==============================] - 30s 803ms/step - loss: 0.0047 - root_mean_squared_error: 0.6072 - val_loss: 0.3879 - val_root_mean_squared_error: 0.6228\n",
      "Epoch 9/1000\n",
      "37/37 [==============================] - 30s 811ms/step - loss: 0.0049 - root_mean_squared_error: 0.5661 - val_loss: 0.3981 - val_root_mean_squared_error: 0.6310\n",
      "Epoch 10/1000\n",
      "37/37 [==============================] - 31s 831ms/step - loss: 0.0042 - root_mean_squared_error: 0.5733 - val_loss: 0.4408 - val_root_mean_squared_error: 0.6640\n",
      "Epoch 11/1000\n",
      "37/37 [==============================] - 31s 830ms/step - loss: 0.0039 - root_mean_squared_error: 0.5663 - val_loss: 0.3249 - val_root_mean_squared_error: 0.5700\n",
      "Epoch 12/1000\n",
      "37/37 [==============================] - ETA: 0s - loss: 0.0037 - root_mean_squared_error: 0.5347Restoring model weights from the end of the best epoch: 7.\n",
      "37/37 [==============================] - 31s 827ms/step - loss: 0.0037 - root_mean_squared_error: 0.5347 - val_loss: 0.2960 - val_root_mean_squared_error: 0.5441\n",
      "Epoch 00012: early stopping\n"
     ]
    }
   ],
   "source": [
    "tf.config.run_functions_eagerly(True)\n",
    "\n",
    "training_history = model.fit(\n",
    "    x = [tf.constant(train_text),x_train,],\n",
    "    # x = x_train,\n",
    "    y = {'out6':np.array(train_cost)},\n",
    "    sample_weight={'out6': np.array(weights)},\n",
    "    epochs=epochs,\n",
    "    batch_size = batch_size,\n",
    "    steps_per_epoch=steps_per_epoch,\n",
    "    validation_data=(\n",
    "        [tf.constant(test_text),x_test,],\n",
    "        # x_val,\n",
    "        {'out6':np.array(test_cost)}),\n",
    "    callbacks=[early_stopping_callback,]\n",
    ")"
   ]
  },
  {
   "cell_type": "code",
   "execution_count": 30,
   "metadata": {
    "id": "hs7fePaTCTN2"
   },
   "outputs": [],
   "source": [
    "# model_name = 'model weight/'+var+'/cross attention_'+var+'-best.h5'\n",
    "# model.load_weights(model_name)\n",
    "\n",
    "idx = 0\n",
    "output = pd.DataFrame()\n",
    "\n",
    "# test_results0 = model.predict(x_test)\n",
    "test_results0 = model.predict([tf.constant(test_text),x_test,])\n",
    "test_result= test_results0.reshape(len(x_test)).tolist()\n",
    "test_cost = test_df[var]\n",
    "\n",
    "difference_array = np.subtract(test_result, test_cost)\n",
    "squared_array = np.square(difference_array)\n",
    "mse = squared_array.mean()\n",
    "\n",
    "correlation_matrix = np.corrcoef(test_cost, test_result)\n",
    "correlation_xy = correlation_matrix[0,1]\n",
    "r_squared = correlation_xy**2\n",
    "\n",
    "output.loc[idx,'warm up'] = a\n",
    "output.loc[idx,'var'] = var\n",
    "output.loc[idx,'lr'] = init_lr\n",
    "output.loc[idx,'mse'] = mse\n",
    "output.loc[idx,'r^2'] = r_squared"
   ]
  },
  {
   "cell_type": "code",
   "execution_count": 31,
   "metadata": {
    "id": "pkFHczKTCTN3",
    "scrolled": false
   },
   "outputs": [
    {
     "data": {
      "text/html": [
       "<div>\n",
       "<style scoped>\n",
       "    .dataframe tbody tr th:only-of-type {\n",
       "        vertical-align: middle;\n",
       "    }\n",
       "\n",
       "    .dataframe tbody tr th {\n",
       "        vertical-align: top;\n",
       "    }\n",
       "\n",
       "    .dataframe thead th {\n",
       "        text-align: right;\n",
       "    }\n",
       "</style>\n",
       "<table border=\"1\" class=\"dataframe\">\n",
       "  <thead>\n",
       "    <tr style=\"text-align: right;\">\n",
       "      <th></th>\n",
       "      <th>warm up</th>\n",
       "      <th>var</th>\n",
       "      <th>lr</th>\n",
       "      <th>mse</th>\n",
       "      <th>r^2</th>\n",
       "    </tr>\n",
       "  </thead>\n",
       "  <tbody>\n",
       "    <tr>\n",
       "      <th>0</th>\n",
       "      <td>0.0</td>\n",
       "      <td>Unique_expert</td>\n",
       "      <td>0.00002</td>\n",
       "      <td>0.886312</td>\n",
       "      <td>0.602976</td>\n",
       "    </tr>\n",
       "  </tbody>\n",
       "</table>\n",
       "</div>"
      ],
      "text/plain": [
       "   warm up            var       lr       mse       r^2\n",
       "0      0.0  Unique_expert  0.00002  0.886312  0.602976"
      ]
     },
     "execution_count": 31,
     "metadata": {},
     "output_type": "execute_result"
    }
   ],
   "source": [
    "output"
   ]
  },
  {
   "cell_type": "code",
   "execution_count": 78,
   "metadata": {
    "id": "DLNmf5T6YiGe"
   },
   "outputs": [],
   "source": [
    "# model.layers[-1]\n",
    "# print(model.layers[-1].weights)"
   ]
  },
  {
   "cell_type": "code",
   "execution_count": 29,
   "metadata": {
    "id": "qTdpqGSOG6-o"
   },
   "outputs": [],
   "source": [
    "# ##save and load models\n",
    "# ##https://stackoverflow.com/questions/46610732/how-to-freeze-some-layers-when-fine-tune-resnet50\n",
    "\n",
    "# # a = 1\n",
    "\n",
    "# # var = 'Unique_expert'\n",
    "# # var = 'Drawing_expert'\n",
    "# # var = 'Useful_expert'\n",
    "# # var = 'Elegence_expert'\n",
    "# # var = 'Creativity_expert'\n",
    "\n",
    "# # model_name = 'model weight/'+var+'/new sketch-'+var+'-best.h5'\n",
    "# # model_name = 'model weight/new sketch-'+var+'-best.h5'\n",
    "# # model_name = 'model weight/'+var+'/simple_joint_ratio-'+str(a)+'-'+var+'-best.h5'\n",
    "# # model_name = 'model weight/'+var+'/new joint_'+var+'-best.h5'\n",
    "# # model_name = 'model weight/'+var+'/new text-'+var+'-best.h5'\n",
    "model_name = 'model weight/'+var+'/cross attention_'+var+'-best.h5'\n",
    "# # model.save(model_name, save_format='h5')\n",
    "# ##for joint model\n",
    "# # model.save_weights(model_name)\n",
    "\n",
    "# from keras.models import load_model\n",
    "# # model = load_model(model_name)\n",
    "# ##for text model\n",
    "# # model = load_model(model_name, custom_objects={'KerasLayer':hub.KerasLayer,'AdamWeightDecay': optimizer})\n",
    "# ##for joint model\n",
    "model.load_weights(model_name)"
   ]
  },
  {
   "cell_type": "code",
   "execution_count": 80,
   "metadata": {
    "id": "sq0BNfIcYq4Q",
    "scrolled": true
   },
   "outputs": [],
   "source": [
    "# from tensorflow.keras.optimizers import RMSprop, Adam, SGD\n",
    "# from tensorflow.keras.callbacks import LearningRateScheduler\n",
    "# from tensorflow.keras.applications.inception_v3 import InceptionV3\n",
    "# from tensorflow.keras import Model, Input, layers, regularizers\n",
    "# from keras.models import load_model\n",
    "# from tensorflow.keras import activations\n",
    "# from official.nlp import optimization\n",
    "# import tensorflow_hub as hub\n",
    "# import tensorflow_text as text\n",
    "# from keras.models import load_model\n",
    "\n",
    "# maxv = 0.2925\n",
    "# output = pd.DataFrame()\n",
    "# idx = 0\n",
    "# epochs = 1000\n",
    "# steps_per_epoch = 37\n",
    "# num_train_steps = steps_per_epoch * epochs\n",
    "# for a in [0]:\n",
    "# # for a in range(0,21):\n",
    "# #     for b in [16]:\n",
    "#     for b in range(0,9):\n",
    "#         num_warmup_steps = 0\n",
    "#         init_lr = 1e-5\n",
    "#         optimizer = optimization.create_optimizer(init_lr=init_lr,\n",
    "#                                                   num_train_steps=num_train_steps,\n",
    "#                                                   num_warmup_steps=num_warmup_steps,\n",
    "#                                                   optimizer_type='adamw')\n",
    "#         z = layers.Concatenate(axis=1)([out4,out5])\n",
    "#         # initializer = tf.keras.initializers.RandomUniform(minval=0.01, maxval=0.99)\n",
    "#         initializer = tf.keras.initializers.Constant([b*0.05, 1-b*0.05])\n",
    "#         out6 = layers.Dense(1, activation='relu', name='out6', kernel_initializer=initializer)(z)\n",
    "#         model = Model([input_tensor1,input_tensor2], out6)\n",
    "\n",
    "#         model.compile(optimizer=optimizer,\n",
    "#                       loss=tf.keras.losses.MeanSquaredError(),\n",
    "#                       metrics= tf.keras.metrics.RootMeanSquaredError())\n",
    "\n",
    "#         training_history = model.fit(\n",
    "#             x = [tf.constant(train_text),x_train,],\n",
    "#             y = {'out6':np.array(train_cost)},\n",
    "#             sample_weight={'out6': np.array(weights)},\n",
    "#             epochs=epochs,\n",
    "#             batch_size = batch_size,\n",
    "#             steps_per_epoch=steps_per_epoch,\n",
    "#             validation_data=(\n",
    "#                 [tf.constant(val_text),x_val,],\n",
    "#                 {'out6':np.array(val_cost)}),\n",
    "#             callbacks=[early_stopping_callback]\n",
    "#         )\n",
    "\n",
    "#         test_results0 = model.predict([tf.constant(test_text),x_test,])\n",
    "#         test_result= test_results0.reshape(len(x_test)).tolist()\n",
    "#         test_cost = test_df[var]\n",
    "\n",
    "#         difference_array = np.subtract(test_result, test_cost)\n",
    "#         squared_array = np.square(difference_array)\n",
    "#         mse = squared_array.mean()\n",
    "\n",
    "#         correlation_matrix = np.corrcoef(test_cost, test_result)\n",
    "#         correlation_xy = correlation_matrix[0,1]\n",
    "#         r_squared = correlation_xy**2\n",
    "\n",
    "#         output.loc[idx,'ratio'] = b\n",
    "#         output.loc[idx,'var'] = var\n",
    "#         output.loc[idx,'lr'] = init_lr\n",
    "#         output.loc[idx,'mse'] = mse\n",
    "#         output.loc[idx,'r^2'] = r_squared\n",
    "#         print (idx,'  ',b,'  ',mse,'  ',r_squared)\n",
    "#         idx += 1\n",
    "#         print (idx)\n",
    "#         if r_squared > maxv:\n",
    "#             model_name = 'model weight/'+var+'/cross attention_'+var+'-best.h5'\n",
    "#             model.save_weights(model_name)\n",
    "#             maxv = r_squared\n",
    "#             print (maxv)"
   ]
  },
  {
   "cell_type": "code",
   "execution_count": 81,
   "metadata": {
    "id": "2cMdqP5WxiIQ"
   },
   "outputs": [],
   "source": [
    "# output"
   ]
  },
  {
   "cell_type": "code",
   "execution_count": 82,
   "metadata": {
    "colab": {
     "base_uri": "https://localhost:8080/"
    },
    "id": "kCyONokSHNID",
    "outputId": "cac548c5-06cd-4bc4-f094-c602bd3cdedb",
    "scrolled": true
   },
   "outputs": [],
   "source": [
    "# maxV = {'Useful_expert':0.432864,'Unique_expert':0.602963,'Drawing_expert':0.44115,'Elegence_expert':0.445855,\n",
    "#         'Creativity_expert':0.321143}\n",
    "# maxv = maxV[var]\n",
    "# idx = 0\n",
    "# output = pd.DataFrame()\n",
    "# for lr in [2,1.5,1,0.5]:  ##2,1.5,1,\n",
    "#     for i in range(20):\n",
    "#         model_name = 'model weight/'+var+'/cross attention_'+var+'-best.h5'\n",
    "#         model.load_weights(model_name)\n",
    "#         init_lr = lr*1e-5\n",
    "#         num_warmup_steps = 0\n",
    "#         optimizer = optimization.create_optimizer(init_lr=init_lr,\n",
    "#                                                   num_train_steps=num_train_steps,\n",
    "#                                                   num_warmup_steps=num_warmup_steps,\n",
    "#                                                   optimizer_type='adamw')\n",
    "\n",
    "#         model.compile(optimizer=optimizer,\n",
    "#                       loss=tf.keras.losses.MeanSquaredError(),\n",
    "#                       metrics= tf.keras.metrics.RootMeanSquaredError())\n",
    "\n",
    "#         early_stopping_callback = tf.keras.callbacks.EarlyStopping(\n",
    "#             patience=5,\n",
    "#             monitor=\"val_loss\",\n",
    "#             restore_best_weights=True,\n",
    "#             verbose=1)\n",
    "\n",
    "#         training_history = model.fit(\n",
    "#             x = [tf.constant(train_text),x_train,],\n",
    "#             # x = x_train,\n",
    "#             y = {'out6':np.array(train_cost)},\n",
    "#             sample_weight={'out6': np.array(weights)},\n",
    "#             epochs=epochs,\n",
    "#             batch_size = batch_size,\n",
    "#             steps_per_epoch=steps_per_epoch,\n",
    "#             validation_data=(\n",
    "#                 [tf.constant(val_text),x_val,],\n",
    "#                 # x_val,\n",
    "#                 {'out6':np.array(val_cost)}),\n",
    "#             callbacks=[early_stopping_callback,]\n",
    "#         )\n",
    "\n",
    "#         test_results0 =  model.predict([tf.constant(test_text),x_test,])\n",
    "#         test_result= test_results0.reshape(len(x_test)).tolist()\n",
    "#         test_cost = test_df[var]\n",
    "\n",
    "#         difference_array = np.subtract(test_result, test_cost)\n",
    "#         squared_array = np.square(difference_array)\n",
    "#         mse = squared_array.mean()\n",
    "\n",
    "#         correlation_matrix = np.corrcoef(test_cost, test_result)\n",
    "#         correlation_xy = correlation_matrix[0,1]\n",
    "#         r_squared = correlation_xy**2\n",
    "\n",
    "#         # output.loc[idx,''] = a\n",
    "#         output.loc[idx,'var'] = var\n",
    "#         output.loc[idx,'lr'] = init_lr\n",
    "#         output.loc[idx,'mse'] = mse\n",
    "#         output.loc[idx,'r^2'] = r_squared\n",
    "#         idx += 1\n",
    "#         print (idx)\n",
    "#         if r_squared > maxv:\n",
    "#             model_name1 = 'model weight/'+var+'/cross attention_'+var+'-best.h5'\n",
    "#             model.save_weights(model_name1)\n",
    "#             maxv = r_squared\n",
    "#             print (maxv)"
   ]
  },
  {
   "cell_type": "code",
   "execution_count": null,
   "metadata": {
    "scrolled": true
   },
   "outputs": [],
   "source": [
    "# output"
   ]
  },
  {
   "cell_type": "code",
   "execution_count": 38,
   "metadata": {
    "scrolled": true
   },
   "outputs": [
    {
     "name": "stderr",
     "output_type": "stream",
     "text": [
      "C:\\Users\\sbyli\\AppData\\Local\\Temp\\ipykernel_13596\\3656938319.py:2: SettingWithCopyWarning: \n",
      "A value is trying to be set on a copy of a slice from a DataFrame.\n",
      "Try using .loc[row_indexer,col_indexer] = value instead\n",
      "\n",
      "See the caveats in the documentation: https://pandas.pydata.org/pandas-docs/stable/user_guide/indexing.html#returning-a-view-versus-a-copy\n",
      "  plot['Predicted'] = test_result\n"
     ]
    },
    {
     "name": "stdout",
     "output_type": "stream",
     "text": [
      "Unique_expert 0.6029761969560832\n"
     ]
    },
    {
     "data": {
      "image/png": "[encoded data removed]",
      "text/plain": [
       "<Figure size 800x600 with 1 Axes>"
      ]
     },
     "metadata": {
      "needs_background": "light"
     },
     "output_type": "display_data"
    }
   ],
   "source": [
    "plot = test_df[[var]]\n",
    "plot['Predicted'] = test_result\n",
    "plot = plot.sort_values(by=[var], ascending = True, na_position='first').reset_index(drop = True)\n",
    "\n",
    "from matplotlib.pyplot import figure\n",
    "import matplotlib.pyplot as plt\n",
    "figure(figsize=(4, 3), dpi=200)\n",
    "plt.scatter(plot[var], plot['Predicted'])\n",
    "\n",
    "x = [0,6]\n",
    "y = [0,6]\n",
    "plt.plot(x,y, color=\"black\")\n",
    "\n",
    "plt.xlim([0,6])\n",
    "plt.ylim([0,6])\n",
    "\n",
    "# plt.xlabel(var+' Ground Truth')\n",
    "# plt.ylabel(var+' Predicted')\n",
    "plt.xlabel('Ground Truth')\n",
    "plt.ylabel('Predicted Value')\n",
    "plt.tight_layout()\n",
    "plt.savefig(var+'.png')\n",
    "print (var, r_squared)"
   ]
  },
  {
   "cell_type": "code",
   "execution_count": 39,
   "metadata": {},
   "outputs": [],
   "source": [
    "test_df[var+'_predicted'] = test_result"
   ]
  },
  {
   "cell_type": "code",
   "execution_count": 52,
   "metadata": {
    "scrolled": true
   },
   "outputs": [
    {
     "data": {
      "text/html": [
       "<div>\n",
       "<style scoped>\n",
       "    .dataframe tbody tr th:only-of-type {\n",
       "        vertical-align: middle;\n",
       "    }\n",
       "\n",
       "    .dataframe tbody tr th {\n",
       "        vertical-align: top;\n",
       "    }\n",
       "\n",
       "    .dataframe thead th {\n",
       "        text-align: right;\n",
       "    }\n",
       "</style>\n",
       "<table border=\"1\" class=\"dataframe\">\n",
       "  <thead>\n",
       "    <tr style=\"text-align: right;\">\n",
       "      <th></th>\n",
       "      <th>Unnamed: 0</th>\n",
       "      <th>Participant ID</th>\n",
       "      <th>Idea#</th>\n",
       "      <th>Image_ID</th>\n",
       "      <th>Zoom</th>\n",
       "      <th>text</th>\n",
       "      <th>Creativity_expert</th>\n",
       "      <th>Useful_expert</th>\n",
       "      <th>Unique_expert</th>\n",
       "      <th>Drawing_expert</th>\n",
       "      <th>...</th>\n",
       "      <th>partition_Useful_expert</th>\n",
       "      <th>partition_Elegence_expert</th>\n",
       "      <th>partition_Creativity_expert</th>\n",
       "      <th>set3_Unique_expert</th>\n",
       "      <th>set3_Drawing_expert</th>\n",
       "      <th>set3_Useful_expert</th>\n",
       "      <th>set3_Elegence_expert</th>\n",
       "      <th>set3_Creativity_expert</th>\n",
       "      <th>set4_Elegence_expert</th>\n",
       "      <th>Unique_expert_predicted</th>\n",
       "    </tr>\n",
       "  </thead>\n",
       "  <tbody>\n",
       "    <tr>\n",
       "      <th>709</th>\n",
       "      <td>709</td>\n",
       "      <td>111</td>\n",
       "      <td>5</td>\n",
       "      <td>Page-730</td>\n",
       "      <td>2</td>\n",
       "      <td>like the chocolate river in charlie in the cho...</td>\n",
       "      <td>2.0</td>\n",
       "      <td>2.0</td>\n",
       "      <td>6.0</td>\n",
       "      <td>3.0</td>\n",
       "      <td>...</td>\n",
       "      <td>train5</td>\n",
       "      <td>train4</td>\n",
       "      <td>train5</td>\n",
       "      <td>train</td>\n",
       "      <td>train</td>\n",
       "      <td>train</td>\n",
       "      <td>train</td>\n",
       "      <td>train</td>\n",
       "      <td>train</td>\n",
       "      <td>5.057926</td>\n",
       "    </tr>\n",
       "  </tbody>\n",
       "</table>\n",
       "<p>1 rows × 67 columns</p>\n",
       "</div>"
      ],
      "text/plain": [
       "     Unnamed: 0 Participant ID  Idea#  Image_ID  Zoom  \\\n",
       "709         709            111      5  Page-730     2   \n",
       "\n",
       "                                                  text  Creativity_expert  \\\n",
       "709  like the chocolate river in charlie in the cho...                2.0   \n",
       "\n",
       "     Useful_expert  Unique_expert  Drawing_expert  ...  \\\n",
       "709            2.0            6.0             3.0  ...   \n",
       "\n",
       "     partition_Useful_expert  partition_Elegence_expert  \\\n",
       "709                   train5                     train4   \n",
       "\n",
       "     partition_Creativity_expert  set3_Unique_expert  set3_Drawing_expert  \\\n",
       "709                       train5               train                train   \n",
       "\n",
       "     set3_Useful_expert  set3_Elegence_expert  set3_Creativity_expert  \\\n",
       "709               train                 train                   train   \n",
       "\n",
       "    set4_Elegence_expert Unique_expert_predicted  \n",
       "709                train                5.057926  \n",
       "\n",
       "[1 rows x 67 columns]"
      ]
     },
     "execution_count": 52,
     "metadata": {},
     "output_type": "execute_result"
    }
   ],
   "source": [
    "test_df[(test_df[var+'_predicted'] > 5) & (test_df[var] == 6)]"
   ]
  },
  {
   "cell_type": "code",
   "execution_count": null,
   "metadata": {},
   "outputs": [],
   "source": []
  }
 ],
 "metadata": {
  "accelerator": "GPU",
  "colab": {
   "machine_shape": "hm",
   "name": "cross attention.ipynb",
   "provenance": []
  },
  "gpuClass": "standard",
  "kernel_info": {
   "name": "python3-azureml"
  },
  "kernelspec": {
   "display_name": "tf-transf",
   "language": "python",
   "name": "tf-transf"
  },
  "language_info": {
   "codemirror_mode": {
    "name": "ipython",
    "version": 3
   },
   "file_extension": ".py",
   "mimetype": "text/x-python",
   "name": "python",
   "nbconvert_exporter": "python",
   "pygments_lexer": "ipython3",
   "version": "3.9.0"
  },
  "microsoft": {
   "host": {
    "AzureML": {
     "notebookHasBeenCompleted": true
    }
   }
  },
  "nteract": {
   "version": "nteract-front-end@1.0.0"
  }
 },
 "nbformat": 4,
 "nbformat_minor": 1
}
